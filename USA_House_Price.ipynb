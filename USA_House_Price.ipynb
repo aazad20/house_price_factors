{
 "cells": [
  {
   "cell_type": "code",
   "execution_count": 39,
   "metadata": {},
   "outputs": [],
   "source": [
    "import pandas as pd\n",
    "import numpy as np\n",
    "import seaborn as sns\n",
    "import matplotlib.pyplot as plt "
   ]
  },
  {
   "cell_type": "code",
   "execution_count": 9,
   "metadata": {},
   "outputs": [],
   "source": [
    "supply = pd.read_csv(\"archive (2)/supply_data.csv\")"
   ]
  },
  {
   "cell_type": "code",
   "execution_count": 13,
   "metadata": {},
   "outputs": [
    {
     "data": {
      "text/html": [
       "<div>\n",
       "<style scoped>\n",
       "    .dataframe tbody tr th:only-of-type {\n",
       "        vertical-align: middle;\n",
       "    }\n",
       "\n",
       "    .dataframe tbody tr th {\n",
       "        vertical-align: top;\n",
       "    }\n",
       "\n",
       "    .dataframe thead th {\n",
       "        text-align: right;\n",
       "    }\n",
       "</style>\n",
       "<table border=\"1\" class=\"dataframe\">\n",
       "  <thead>\n",
       "    <tr style=\"text-align: right;\">\n",
       "      <th></th>\n",
       "      <th>Unnamed: 0</th>\n",
       "      <th>Period</th>\n",
       "      <th>Permit_Number</th>\n",
       "      <th>construction</th>\n",
       "      <th>Homes_Sold</th>\n",
       "      <th>Housing_Starts</th>\n",
       "    </tr>\n",
       "  </thead>\n",
       "  <tbody>\n",
       "    <tr>\n",
       "      <th>0</th>\n",
       "      <td>1</td>\n",
       "      <td>01-01-2000</td>\n",
       "      <td>1727</td>\n",
       "      <td>353065</td>\n",
       "      <td>873</td>\n",
       "      <td>1636</td>\n",
       "    </tr>\n",
       "    <tr>\n",
       "      <th>1</th>\n",
       "      <td>2</td>\n",
       "      <td>01-02-2000</td>\n",
       "      <td>1692</td>\n",
       "      <td>351933</td>\n",
       "      <td>856</td>\n",
       "      <td>1737</td>\n",
       "    </tr>\n",
       "    <tr>\n",
       "      <th>2</th>\n",
       "      <td>3</td>\n",
       "      <td>01-03-2000</td>\n",
       "      <td>1651</td>\n",
       "      <td>353452</td>\n",
       "      <td>900</td>\n",
       "      <td>1604</td>\n",
       "    </tr>\n",
       "    <tr>\n",
       "      <th>3</th>\n",
       "      <td>4</td>\n",
       "      <td>01-04-2000</td>\n",
       "      <td>1597</td>\n",
       "      <td>356188</td>\n",
       "      <td>841</td>\n",
       "      <td>1626</td>\n",
       "    </tr>\n",
       "    <tr>\n",
       "      <th>4</th>\n",
       "      <td>5</td>\n",
       "      <td>01-05-2000</td>\n",
       "      <td>1543</td>\n",
       "      <td>349907</td>\n",
       "      <td>857</td>\n",
       "      <td>1575</td>\n",
       "    </tr>\n",
       "    <tr>\n",
       "      <th>...</th>\n",
       "      <td>...</td>\n",
       "      <td>...</td>\n",
       "      <td>...</td>\n",
       "      <td>...</td>\n",
       "      <td>...</td>\n",
       "      <td>...</td>\n",
       "    </tr>\n",
       "    <tr>\n",
       "      <th>245</th>\n",
       "      <td>246</td>\n",
       "      <td>01-06-2020</td>\n",
       "      <td>1258</td>\n",
       "      <td>553721</td>\n",
       "      <td>840</td>\n",
       "      <td>1265</td>\n",
       "    </tr>\n",
       "    <tr>\n",
       "      <th>246</th>\n",
       "      <td>247</td>\n",
       "      <td>01-07-2020</td>\n",
       "      <td>1483</td>\n",
       "      <td>575451</td>\n",
       "      <td>979</td>\n",
       "      <td>1487</td>\n",
       "    </tr>\n",
       "    <tr>\n",
       "      <th>247</th>\n",
       "      <td>248</td>\n",
       "      <td>01-08-2020</td>\n",
       "      <td>1476</td>\n",
       "      <td>615396</td>\n",
       "      <td>977</td>\n",
       "      <td>1373</td>\n",
       "    </tr>\n",
       "    <tr>\n",
       "      <th>248</th>\n",
       "      <td>249</td>\n",
       "      <td>01-09-2020</td>\n",
       "      <td>1545</td>\n",
       "      <td>619090</td>\n",
       "      <td>965</td>\n",
       "      <td>1437</td>\n",
       "    </tr>\n",
       "    <tr>\n",
       "      <th>249</th>\n",
       "      <td>250</td>\n",
       "      <td>01-10-2020</td>\n",
       "      <td>1544</td>\n",
       "      <td>637138</td>\n",
       "      <td>945</td>\n",
       "      <td>1528</td>\n",
       "    </tr>\n",
       "  </tbody>\n",
       "</table>\n",
       "<p>250 rows × 6 columns</p>\n",
       "</div>"
      ],
      "text/plain": [
       "     Unnamed: 0      Period  Permit_Number  construction  Homes_Sold  \\\n",
       "0             1  01-01-2000           1727        353065         873   \n",
       "1             2  01-02-2000           1692        351933         856   \n",
       "2             3  01-03-2000           1651        353452         900   \n",
       "3             4  01-04-2000           1597        356188         841   \n",
       "4             5  01-05-2000           1543        349907         857   \n",
       "..          ...         ...            ...           ...         ...   \n",
       "245         246  01-06-2020           1258        553721         840   \n",
       "246         247  01-07-2020           1483        575451         979   \n",
       "247         248  01-08-2020           1476        615396         977   \n",
       "248         249  01-09-2020           1545        619090         965   \n",
       "249         250  01-10-2020           1544        637138         945   \n",
       "\n",
       "     Housing_Starts  \n",
       "0              1636  \n",
       "1              1737  \n",
       "2              1604  \n",
       "3              1626  \n",
       "4              1575  \n",
       "..              ...  \n",
       "245            1265  \n",
       "246            1487  \n",
       "247            1373  \n",
       "248            1437  \n",
       "249            1528  \n",
       "\n",
       "[250 rows x 6 columns]"
      ]
     },
     "execution_count": 13,
     "metadata": {},
     "output_type": "execute_result"
    }
   ],
   "source": [
    "supply"
   ]
  },
  {
   "cell_type": "code",
   "execution_count": 35,
   "metadata": {},
   "outputs": [],
   "source": [
    "demand = pd.read_csv(\"archive (2)/demand_data.csv\")"
   ]
  },
  {
   "cell_type": "code",
   "execution_count": 36,
   "metadata": {},
   "outputs": [
    {
     "data": {
      "text/html": [
       "<div>\n",
       "<style scoped>\n",
       "    .dataframe tbody tr th:only-of-type {\n",
       "        vertical-align: middle;\n",
       "    }\n",
       "\n",
       "    .dataframe tbody tr th {\n",
       "        vertical-align: top;\n",
       "    }\n",
       "\n",
       "    .dataframe thead th {\n",
       "        text-align: right;\n",
       "    }\n",
       "</style>\n",
       "<table border=\"1\" class=\"dataframe\">\n",
       "  <thead>\n",
       "    <tr style=\"text-align: right;\">\n",
       "      <th></th>\n",
       "      <th>DATE</th>\n",
       "      <th>UNEM_RATE</th>\n",
       "      <th>MORTGAGE</th>\n",
       "      <th>GDPC1</th>\n",
       "      <th>FORECLOSURES</th>\n",
       "      <th>HPI</th>\n",
       "    </tr>\n",
       "  </thead>\n",
       "  <tbody>\n",
       "    <tr>\n",
       "      <th>0</th>\n",
       "      <td>2000-01-01</td>\n",
       "      <td>4.03</td>\n",
       "      <td>8.26</td>\n",
       "      <td>12935.252</td>\n",
       "      <td>1.95</td>\n",
       "      <td>101.34</td>\n",
       "    </tr>\n",
       "    <tr>\n",
       "      <th>1</th>\n",
       "      <td>2000-04-01</td>\n",
       "      <td>3.93</td>\n",
       "      <td>8.32</td>\n",
       "      <td>13170.749</td>\n",
       "      <td>1.97</td>\n",
       "      <td>103.67</td>\n",
       "    </tr>\n",
       "    <tr>\n",
       "      <th>2</th>\n",
       "      <td>2000-07-01</td>\n",
       "      <td>4.00</td>\n",
       "      <td>8.02</td>\n",
       "      <td>13183.890</td>\n",
       "      <td>2.09</td>\n",
       "      <td>105.79</td>\n",
       "    </tr>\n",
       "    <tr>\n",
       "      <th>3</th>\n",
       "      <td>2000-10-01</td>\n",
       "      <td>3.90</td>\n",
       "      <td>7.62</td>\n",
       "      <td>13262.250</td>\n",
       "      <td>2.23</td>\n",
       "      <td>108.27</td>\n",
       "    </tr>\n",
       "    <tr>\n",
       "      <th>4</th>\n",
       "      <td>2001-01-01</td>\n",
       "      <td>4.23</td>\n",
       "      <td>7.01</td>\n",
       "      <td>13219.251</td>\n",
       "      <td>2.34</td>\n",
       "      <td>110.48</td>\n",
       "    </tr>\n",
       "    <tr>\n",
       "      <th>...</th>\n",
       "      <td>...</td>\n",
       "      <td>...</td>\n",
       "      <td>...</td>\n",
       "      <td>...</td>\n",
       "      <td>...</td>\n",
       "      <td>...</td>\n",
       "    </tr>\n",
       "    <tr>\n",
       "      <th>79</th>\n",
       "      <td>2019-10-01</td>\n",
       "      <td>3.60</td>\n",
       "      <td>3.70</td>\n",
       "      <td>19202.310</td>\n",
       "      <td>2.34</td>\n",
       "      <td>212.47</td>\n",
       "    </tr>\n",
       "    <tr>\n",
       "      <th>80</th>\n",
       "      <td>2020-01-01</td>\n",
       "      <td>3.80</td>\n",
       "      <td>3.52</td>\n",
       "      <td>18951.992</td>\n",
       "      <td>2.36</td>\n",
       "      <td>215.51</td>\n",
       "    </tr>\n",
       "    <tr>\n",
       "      <th>81</th>\n",
       "      <td>2020-04-01</td>\n",
       "      <td>13.07</td>\n",
       "      <td>3.24</td>\n",
       "      <td>17258.205</td>\n",
       "      <td>2.55</td>\n",
       "      <td>217.89</td>\n",
       "    </tr>\n",
       "    <tr>\n",
       "      <th>82</th>\n",
       "      <td>2020-07-01</td>\n",
       "      <td>8.80</td>\n",
       "      <td>2.95</td>\n",
       "      <td>18560.774</td>\n",
       "      <td>2.80</td>\n",
       "      <td>222.84</td>\n",
       "    </tr>\n",
       "    <tr>\n",
       "      <th>83</th>\n",
       "      <td>2020-10-01</td>\n",
       "      <td>6.77</td>\n",
       "      <td>2.76</td>\n",
       "      <td>18767.778</td>\n",
       "      <td>2.74</td>\n",
       "      <td>232.55</td>\n",
       "    </tr>\n",
       "  </tbody>\n",
       "</table>\n",
       "<p>84 rows × 6 columns</p>\n",
       "</div>"
      ],
      "text/plain": [
       "          DATE  UNEM_RATE  MORTGAGE      GDPC1  FORECLOSURES     HPI\n",
       "0   2000-01-01       4.03      8.26  12935.252          1.95  101.34\n",
       "1   2000-04-01       3.93      8.32  13170.749          1.97  103.67\n",
       "2   2000-07-01       4.00      8.02  13183.890          2.09  105.79\n",
       "3   2000-10-01       3.90      7.62  13262.250          2.23  108.27\n",
       "4   2001-01-01       4.23      7.01  13219.251          2.34  110.48\n",
       "..         ...        ...       ...        ...           ...     ...\n",
       "79  2019-10-01       3.60      3.70  19202.310          2.34  212.47\n",
       "80  2020-01-01       3.80      3.52  18951.992          2.36  215.51\n",
       "81  2020-04-01      13.07      3.24  17258.205          2.55  217.89\n",
       "82  2020-07-01       8.80      2.95  18560.774          2.80  222.84\n",
       "83  2020-10-01       6.77      2.76  18767.778          2.74  232.55\n",
       "\n",
       "[84 rows x 6 columns]"
      ]
     },
     "execution_count": 36,
     "metadata": {},
     "output_type": "execute_result"
    }
   ],
   "source": [
    "demand"
   ]
  },
  {
   "cell_type": "code",
   "execution_count": 18,
   "metadata": {},
   "outputs": [],
   "source": [
    "def year(s):\n",
    "    y = s.split(\"-\")\n",
    "    return y[-1]"
   ]
  },
  {
   "cell_type": "code",
   "execution_count": 20,
   "metadata": {},
   "outputs": [],
   "source": [
    "supply[\"year\"]=supply[\"Period\"].apply(year)"
   ]
  },
  {
   "cell_type": "code",
   "execution_count": 33,
   "metadata": {},
   "outputs": [],
   "source": [
    "supply.drop([\"Unnamed: 0\"],axis=1,inplace=True)"
   ]
  },
  {
   "cell_type": "code",
   "execution_count": 34,
   "metadata": {},
   "outputs": [
    {
     "data": {
      "text/html": [
       "<div>\n",
       "<style scoped>\n",
       "    .dataframe tbody tr th:only-of-type {\n",
       "        vertical-align: middle;\n",
       "    }\n",
       "\n",
       "    .dataframe tbody tr th {\n",
       "        vertical-align: top;\n",
       "    }\n",
       "\n",
       "    .dataframe thead th {\n",
       "        text-align: right;\n",
       "    }\n",
       "</style>\n",
       "<table border=\"1\" class=\"dataframe\">\n",
       "  <thead>\n",
       "    <tr style=\"text-align: right;\">\n",
       "      <th></th>\n",
       "      <th>Period</th>\n",
       "      <th>Permit_Number</th>\n",
       "      <th>construction</th>\n",
       "      <th>Homes_Sold</th>\n",
       "      <th>Housing_Starts</th>\n",
       "      <th>year</th>\n",
       "    </tr>\n",
       "  </thead>\n",
       "  <tbody>\n",
       "    <tr>\n",
       "      <th>0</th>\n",
       "      <td>01-01-2000</td>\n",
       "      <td>1727</td>\n",
       "      <td>353065</td>\n",
       "      <td>873</td>\n",
       "      <td>1636</td>\n",
       "      <td>2000</td>\n",
       "    </tr>\n",
       "    <tr>\n",
       "      <th>1</th>\n",
       "      <td>01-02-2000</td>\n",
       "      <td>1692</td>\n",
       "      <td>351933</td>\n",
       "      <td>856</td>\n",
       "      <td>1737</td>\n",
       "      <td>2000</td>\n",
       "    </tr>\n",
       "    <tr>\n",
       "      <th>2</th>\n",
       "      <td>01-03-2000</td>\n",
       "      <td>1651</td>\n",
       "      <td>353452</td>\n",
       "      <td>900</td>\n",
       "      <td>1604</td>\n",
       "      <td>2000</td>\n",
       "    </tr>\n",
       "    <tr>\n",
       "      <th>3</th>\n",
       "      <td>01-04-2000</td>\n",
       "      <td>1597</td>\n",
       "      <td>356188</td>\n",
       "      <td>841</td>\n",
       "      <td>1626</td>\n",
       "      <td>2000</td>\n",
       "    </tr>\n",
       "    <tr>\n",
       "      <th>4</th>\n",
       "      <td>01-05-2000</td>\n",
       "      <td>1543</td>\n",
       "      <td>349907</td>\n",
       "      <td>857</td>\n",
       "      <td>1575</td>\n",
       "      <td>2000</td>\n",
       "    </tr>\n",
       "  </tbody>\n",
       "</table>\n",
       "</div>"
      ],
      "text/plain": [
       "       Period  Permit_Number  construction  Homes_Sold  Housing_Starts  year\n",
       "0  01-01-2000           1727        353065         873            1636  2000\n",
       "1  01-02-2000           1692        351933         856            1737  2000\n",
       "2  01-03-2000           1651        353452         900            1604  2000\n",
       "3  01-04-2000           1597        356188         841            1626  2000\n",
       "4  01-05-2000           1543        349907         857            1575  2000"
      ]
     },
     "execution_count": 34,
     "metadata": {},
     "output_type": "execute_result"
    }
   ],
   "source": [
    "supply.head()"
   ]
  },
  {
   "cell_type": "code",
   "execution_count": 55,
   "metadata": {},
   "outputs": [],
   "source": [
    "data = supply.groupby('year').sum()"
   ]
  },
  {
   "cell_type": "code",
   "execution_count": 66,
   "metadata": {},
   "outputs": [
    {
     "data": {
      "text/plain": [
       "Index(['Permit_Number', 'construction', 'Homes_Sold', 'Housing_Starts'], dtype='object')"
      ]
     },
     "execution_count": 66,
     "metadata": {},
     "output_type": "execute_result"
    }
   ],
   "source": [
    "data.columns"
   ]
  },
  {
   "cell_type": "code",
   "execution_count": 67,
   "metadata": {},
   "outputs": [
    {
     "data": {
      "text/plain": [
       "Index(['2000', '2001', '2002', '2003', '2004', '2005', '2006', '2007', '2008',\n",
       "       '2009', '2010', '2011', '2012', '2013', '2014', '2015', '2016', '2017',\n",
       "       '2018', '2019', '2020'],\n",
       "      dtype='object', name='year')"
      ]
     },
     "execution_count": 67,
     "metadata": {},
     "output_type": "execute_result"
    }
   ],
   "source": [
    "data.index"
   ]
  },
  {
   "cell_type": "code",
   "execution_count": 71,
   "metadata": {},
   "outputs": [
    {
     "data": {
      "image/png": "[encoded data removed]",
      "text/plain": [
       "<Figure size 432x288 with 1 Axes>"
      ]
     },
     "metadata": {
      "needs_background": "light"
     },
     "output_type": "display_data"
    }
   ],
   "source": [
    "ax = sns.barplot(data=data,x=data.index,y=\"Homes_Sold\")\n",
    "ax.set_xticklabels(data.index, rotation=45)\n",
    "plt.show()"
   ]
  },
  {
   "cell_type": "code",
   "execution_count": 97,
   "metadata": {},
   "outputs": [
    {
     "name": "stderr",
     "output_type": "stream",
     "text": [
      "/home/jeet/.local/lib/python3.6/site-packages/ipykernel_launcher.py:6: UserWarning: FixedFormatter should only be used together with FixedLocator\n",
      "  \n"
     ]
    },
    {
     "data": {
      "text/plain": [
       "[Text(0, 0, '2000'),\n",
       " Text(1, 0, '2001'),\n",
       " Text(2, 0, '2002'),\n",
       " Text(3, 0, '2003'),\n",
       " Text(4, 0, '2004'),\n",
       " Text(5, 0, '2005'),\n",
       " Text(6, 0, '2006'),\n",
       " Text(7, 0, '2007'),\n",
       " Text(8, 0, '2008'),\n",
       " Text(9, 0, '2009'),\n",
       " Text(10, 0, '2010'),\n",
       " Text(11, 0, '2011'),\n",
       " Text(12, 0, '2012'),\n",
       " Text(13, 0, '2013'),\n",
       " Text(14, 0, '2014'),\n",
       " Text(15, 0, '2015'),\n",
       " Text(16, 0, '2016'),\n",
       " Text(17, 0, '2017'),\n",
       " Text(18, 0, '2018'),\n",
       " Text(19, 0, '2019'),\n",
       " Text(20, 0, '2020')]"
      ]
     },
     "execution_count": 97,
     "metadata": {},
     "output_type": "execute_result"
    },
    {
     "data": {
      "image/png": "[encoded data removed]",
      "text/plain": [
       "<Figure size 432x288 with 1 Axes>"
      ]
     },
     "metadata": {
      "needs_background": "light"
     },
     "output_type": "display_data"
    }
   ],
   "source": [
    "fig, ax = plt.subplots()\n",
    "ax= sns.lineplot(x=data.index, y=\"Homes_Sold\", data=data,color=\"red\")\n",
    "ax1 = sns.lineplot(x=data.index, y='Housing_Starts', data=data)\n",
    "ax2 = sns.lineplot(x=data.index, y='Permit_Number', data=data,color=\"green\")\n",
    "ax.set(xlabel='Year', ylabel='Data')\n",
    "ax.set_xticklabels(data.index, rotation=45)"
   ]
  },
  {
   "cell_type": "code",
   "execution_count": 81,
   "metadata": {},
   "outputs": [
    {
     "data": {
      "text/html": [
       "<div>\n",
       "<style scoped>\n",
       "    .dataframe tbody tr th:only-of-type {\n",
       "        vertical-align: middle;\n",
       "    }\n",
       "\n",
       "    .dataframe tbody tr th {\n",
       "        vertical-align: top;\n",
       "    }\n",
       "\n",
       "    .dataframe thead th {\n",
       "        text-align: right;\n",
       "    }\n",
       "</style>\n",
       "<table border=\"1\" class=\"dataframe\">\n",
       "  <thead>\n",
       "    <tr style=\"text-align: right;\">\n",
       "      <th></th>\n",
       "      <th>DATE</th>\n",
       "      <th>UNEM_RATE</th>\n",
       "      <th>MORTGAGE</th>\n",
       "      <th>GDPC1</th>\n",
       "      <th>FORECLOSURES</th>\n",
       "      <th>HPI</th>\n",
       "    </tr>\n",
       "  </thead>\n",
       "  <tbody>\n",
       "    <tr>\n",
       "      <th>0</th>\n",
       "      <td>2000-01-01</td>\n",
       "      <td>4.03</td>\n",
       "      <td>8.26</td>\n",
       "      <td>12935.252</td>\n",
       "      <td>1.95</td>\n",
       "      <td>101.34</td>\n",
       "    </tr>\n",
       "    <tr>\n",
       "      <th>1</th>\n",
       "      <td>2000-04-01</td>\n",
       "      <td>3.93</td>\n",
       "      <td>8.32</td>\n",
       "      <td>13170.749</td>\n",
       "      <td>1.97</td>\n",
       "      <td>103.67</td>\n",
       "    </tr>\n",
       "    <tr>\n",
       "      <th>2</th>\n",
       "      <td>2000-07-01</td>\n",
       "      <td>4.00</td>\n",
       "      <td>8.02</td>\n",
       "      <td>13183.890</td>\n",
       "      <td>2.09</td>\n",
       "      <td>105.79</td>\n",
       "    </tr>\n",
       "    <tr>\n",
       "      <th>3</th>\n",
       "      <td>2000-10-01</td>\n",
       "      <td>3.90</td>\n",
       "      <td>7.62</td>\n",
       "      <td>13262.250</td>\n",
       "      <td>2.23</td>\n",
       "      <td>108.27</td>\n",
       "    </tr>\n",
       "    <tr>\n",
       "      <th>4</th>\n",
       "      <td>2001-01-01</td>\n",
       "      <td>4.23</td>\n",
       "      <td>7.01</td>\n",
       "      <td>13219.251</td>\n",
       "      <td>2.34</td>\n",
       "      <td>110.48</td>\n",
       "    </tr>\n",
       "    <tr>\n",
       "      <th>...</th>\n",
       "      <td>...</td>\n",
       "      <td>...</td>\n",
       "      <td>...</td>\n",
       "      <td>...</td>\n",
       "      <td>...</td>\n",
       "      <td>...</td>\n",
       "    </tr>\n",
       "    <tr>\n",
       "      <th>79</th>\n",
       "      <td>2019-10-01</td>\n",
       "      <td>3.60</td>\n",
       "      <td>3.70</td>\n",
       "      <td>19202.310</td>\n",
       "      <td>2.34</td>\n",
       "      <td>212.47</td>\n",
       "    </tr>\n",
       "    <tr>\n",
       "      <th>80</th>\n",
       "      <td>2020-01-01</td>\n",
       "      <td>3.80</td>\n",
       "      <td>3.52</td>\n",
       "      <td>18951.992</td>\n",
       "      <td>2.36</td>\n",
       "      <td>215.51</td>\n",
       "    </tr>\n",
       "    <tr>\n",
       "      <th>81</th>\n",
       "      <td>2020-04-01</td>\n",
       "      <td>13.07</td>\n",
       "      <td>3.24</td>\n",
       "      <td>17258.205</td>\n",
       "      <td>2.55</td>\n",
       "      <td>217.89</td>\n",
       "    </tr>\n",
       "    <tr>\n",
       "      <th>82</th>\n",
       "      <td>2020-07-01</td>\n",
       "      <td>8.80</td>\n",
       "      <td>2.95</td>\n",
       "      <td>18560.774</td>\n",
       "      <td>2.80</td>\n",
       "      <td>222.84</td>\n",
       "    </tr>\n",
       "    <tr>\n",
       "      <th>83</th>\n",
       "      <td>2020-10-01</td>\n",
       "      <td>6.77</td>\n",
       "      <td>2.76</td>\n",
       "      <td>18767.778</td>\n",
       "      <td>2.74</td>\n",
       "      <td>232.55</td>\n",
       "    </tr>\n",
       "  </tbody>\n",
       "</table>\n",
       "<p>84 rows × 6 columns</p>\n",
       "</div>"
      ],
      "text/plain": [
       "          DATE  UNEM_RATE  MORTGAGE      GDPC1  FORECLOSURES     HPI\n",
       "0   2000-01-01       4.03      8.26  12935.252          1.95  101.34\n",
       "1   2000-04-01       3.93      8.32  13170.749          1.97  103.67\n",
       "2   2000-07-01       4.00      8.02  13183.890          2.09  105.79\n",
       "3   2000-10-01       3.90      7.62  13262.250          2.23  108.27\n",
       "4   2001-01-01       4.23      7.01  13219.251          2.34  110.48\n",
       "..         ...        ...       ...        ...           ...     ...\n",
       "79  2019-10-01       3.60      3.70  19202.310          2.34  212.47\n",
       "80  2020-01-01       3.80      3.52  18951.992          2.36  215.51\n",
       "81  2020-04-01      13.07      3.24  17258.205          2.55  217.89\n",
       "82  2020-07-01       8.80      2.95  18560.774          2.80  222.84\n",
       "83  2020-10-01       6.77      2.76  18767.778          2.74  232.55\n",
       "\n",
       "[84 rows x 6 columns]"
      ]
     },
     "execution_count": 81,
     "metadata": {},
     "output_type": "execute_result"
    }
   ],
   "source": [
    "demand"
   ]
  },
  {
   "cell_type": "code",
   "execution_count": 82,
   "metadata": {},
   "outputs": [],
   "source": [
    "def year2(s):\n",
    "    return s.split(\"-\")[0]"
   ]
  },
  {
   "cell_type": "code",
   "execution_count": 83,
   "metadata": {},
   "outputs": [],
   "source": [
    "demand['year'] = demand['DATE'].apply(year2)"
   ]
  },
  {
   "cell_type": "code",
   "execution_count": 84,
   "metadata": {},
   "outputs": [
    {
     "data": {
      "text/html": [
       "<div>\n",
       "<style scoped>\n",
       "    .dataframe tbody tr th:only-of-type {\n",
       "        vertical-align: middle;\n",
       "    }\n",
       "\n",
       "    .dataframe tbody tr th {\n",
       "        vertical-align: top;\n",
       "    }\n",
       "\n",
       "    .dataframe thead th {\n",
       "        text-align: right;\n",
       "    }\n",
       "</style>\n",
       "<table border=\"1\" class=\"dataframe\">\n",
       "  <thead>\n",
       "    <tr style=\"text-align: right;\">\n",
       "      <th></th>\n",
       "      <th>DATE</th>\n",
       "      <th>UNEM_RATE</th>\n",
       "      <th>MORTGAGE</th>\n",
       "      <th>GDPC1</th>\n",
       "      <th>FORECLOSURES</th>\n",
       "      <th>HPI</th>\n",
       "      <th>year</th>\n",
       "    </tr>\n",
       "  </thead>\n",
       "  <tbody>\n",
       "    <tr>\n",
       "      <th>0</th>\n",
       "      <td>2000-01-01</td>\n",
       "      <td>4.03</td>\n",
       "      <td>8.26</td>\n",
       "      <td>12935.252</td>\n",
       "      <td>1.95</td>\n",
       "      <td>101.34</td>\n",
       "      <td>2000</td>\n",
       "    </tr>\n",
       "    <tr>\n",
       "      <th>1</th>\n",
       "      <td>2000-04-01</td>\n",
       "      <td>3.93</td>\n",
       "      <td>8.32</td>\n",
       "      <td>13170.749</td>\n",
       "      <td>1.97</td>\n",
       "      <td>103.67</td>\n",
       "      <td>2000</td>\n",
       "    </tr>\n",
       "    <tr>\n",
       "      <th>2</th>\n",
       "      <td>2000-07-01</td>\n",
       "      <td>4.00</td>\n",
       "      <td>8.02</td>\n",
       "      <td>13183.890</td>\n",
       "      <td>2.09</td>\n",
       "      <td>105.79</td>\n",
       "      <td>2000</td>\n",
       "    </tr>\n",
       "    <tr>\n",
       "      <th>3</th>\n",
       "      <td>2000-10-01</td>\n",
       "      <td>3.90</td>\n",
       "      <td>7.62</td>\n",
       "      <td>13262.250</td>\n",
       "      <td>2.23</td>\n",
       "      <td>108.27</td>\n",
       "      <td>2000</td>\n",
       "    </tr>\n",
       "    <tr>\n",
       "      <th>4</th>\n",
       "      <td>2001-01-01</td>\n",
       "      <td>4.23</td>\n",
       "      <td>7.01</td>\n",
       "      <td>13219.251</td>\n",
       "      <td>2.34</td>\n",
       "      <td>110.48</td>\n",
       "      <td>2001</td>\n",
       "    </tr>\n",
       "    <tr>\n",
       "      <th>...</th>\n",
       "      <td>...</td>\n",
       "      <td>...</td>\n",
       "      <td>...</td>\n",
       "      <td>...</td>\n",
       "      <td>...</td>\n",
       "      <td>...</td>\n",
       "      <td>...</td>\n",
       "    </tr>\n",
       "    <tr>\n",
       "      <th>79</th>\n",
       "      <td>2019-10-01</td>\n",
       "      <td>3.60</td>\n",
       "      <td>3.70</td>\n",
       "      <td>19202.310</td>\n",
       "      <td>2.34</td>\n",
       "      <td>212.47</td>\n",
       "      <td>2019</td>\n",
       "    </tr>\n",
       "    <tr>\n",
       "      <th>80</th>\n",
       "      <td>2020-01-01</td>\n",
       "      <td>3.80</td>\n",
       "      <td>3.52</td>\n",
       "      <td>18951.992</td>\n",
       "      <td>2.36</td>\n",
       "      <td>215.51</td>\n",
       "      <td>2020</td>\n",
       "    </tr>\n",
       "    <tr>\n",
       "      <th>81</th>\n",
       "      <td>2020-04-01</td>\n",
       "      <td>13.07</td>\n",
       "      <td>3.24</td>\n",
       "      <td>17258.205</td>\n",
       "      <td>2.55</td>\n",
       "      <td>217.89</td>\n",
       "      <td>2020</td>\n",
       "    </tr>\n",
       "    <tr>\n",
       "      <th>82</th>\n",
       "      <td>2020-07-01</td>\n",
       "      <td>8.80</td>\n",
       "      <td>2.95</td>\n",
       "      <td>18560.774</td>\n",
       "      <td>2.80</td>\n",
       "      <td>222.84</td>\n",
       "      <td>2020</td>\n",
       "    </tr>\n",
       "    <tr>\n",
       "      <th>83</th>\n",
       "      <td>2020-10-01</td>\n",
       "      <td>6.77</td>\n",
       "      <td>2.76</td>\n",
       "      <td>18767.778</td>\n",
       "      <td>2.74</td>\n",
       "      <td>232.55</td>\n",
       "      <td>2020</td>\n",
       "    </tr>\n",
       "  </tbody>\n",
       "</table>\n",
       "<p>84 rows × 7 columns</p>\n",
       "</div>"
      ],
      "text/plain": [
       "          DATE  UNEM_RATE  MORTGAGE      GDPC1  FORECLOSURES     HPI  year\n",
       "0   2000-01-01       4.03      8.26  12935.252          1.95  101.34  2000\n",
       "1   2000-04-01       3.93      8.32  13170.749          1.97  103.67  2000\n",
       "2   2000-07-01       4.00      8.02  13183.890          2.09  105.79  2000\n",
       "3   2000-10-01       3.90      7.62  13262.250          2.23  108.27  2000\n",
       "4   2001-01-01       4.23      7.01  13219.251          2.34  110.48  2001\n",
       "..         ...        ...       ...        ...           ...     ...   ...\n",
       "79  2019-10-01       3.60      3.70  19202.310          2.34  212.47  2019\n",
       "80  2020-01-01       3.80      3.52  18951.992          2.36  215.51  2020\n",
       "81  2020-04-01      13.07      3.24  17258.205          2.55  217.89  2020\n",
       "82  2020-07-01       8.80      2.95  18560.774          2.80  222.84  2020\n",
       "83  2020-10-01       6.77      2.76  18767.778          2.74  232.55  2020\n",
       "\n",
       "[84 rows x 7 columns]"
      ]
     },
     "execution_count": 84,
     "metadata": {},
     "output_type": "execute_result"
    }
   ],
   "source": [
    "demand"
   ]
  },
  {
   "cell_type": "code",
   "execution_count": 85,
   "metadata": {},
   "outputs": [],
   "source": [
    "data_2 = demand.groupby('year').sum()"
   ]
  },
  {
   "cell_type": "code",
   "execution_count": 89,
   "metadata": {},
   "outputs": [
    {
     "data": {
      "image/png": "[encoded data removed]",
      "text/plain": [
       "<Figure size 432x288 with 1 Axes>"
      ]
     },
     "metadata": {
      "needs_background": "light"
     },
     "output_type": "display_data"
    }
   ],
   "source": [
    "ax = sns.barplot(data=data_2,x=data.index,y=\"GDPC1\")\n",
    "ax.set_xticklabels(data_2.index, rotation=45)\n",
    "plt.show()"
   ]
  },
  {
   "cell_type": "code",
   "execution_count": 90,
   "metadata": {},
   "outputs": [
    {
     "data": {
      "image/png": "[encoded data removed]",
      "text/plain": [
       "<Figure size 432x288 with 1 Axes>"
      ]
     },
     "metadata": {
      "needs_background": "light"
     },
     "output_type": "display_data"
    }
   ],
   "source": [
    "ax = sns.barplot(data=data_2,x=data.index,y=\"UNEM_RATE\")\n",
    "ax.set_xticklabels(data_2.index, rotation=45)\n",
    "plt.show()"
   ]
  },
  {
   "cell_type": "code",
   "execution_count": 91,
   "metadata": {},
   "outputs": [
    {
     "data": {
      "image/png": "[encoded data removed]",
      "text/plain": [
       "<Figure size 432x288 with 1 Axes>"
      ]
     },
     "metadata": {
      "needs_background": "light"
     },
     "output_type": "display_data"
    }
   ],
   "source": [
    "ax = sns.barplot(data=data_2,x=data.index,y=\"MORTGAGE\")\n",
    "ax.set_xticklabels(data_2.index, rotation=45)\n",
    "plt.show()"
   ]
  },
  {
   "cell_type": "code",
   "execution_count": 96,
   "metadata": {},
   "outputs": [
    {
     "name": "stderr",
     "output_type": "stream",
     "text": [
      "/home/jeet/.local/lib/python3.6/site-packages/ipykernel_launcher.py:5: UserWarning: FixedFormatter should only be used together with FixedLocator\n",
      "  \"\"\"\n"
     ]
    },
    {
     "data": {
      "text/plain": [
       "[Text(0, 0, '2000'),\n",
       " Text(1, 0, '2001'),\n",
       " Text(2, 0, '2002'),\n",
       " Text(3, 0, '2003'),\n",
       " Text(4, 0, '2004'),\n",
       " Text(5, 0, '2005'),\n",
       " Text(6, 0, '2006'),\n",
       " Text(7, 0, '2007'),\n",
       " Text(8, 0, '2008'),\n",
       " Text(9, 0, '2009'),\n",
       " Text(10, 0, '2010'),\n",
       " Text(11, 0, '2011'),\n",
       " Text(12, 0, '2012'),\n",
       " Text(13, 0, '2013'),\n",
       " Text(14, 0, '2014'),\n",
       " Text(15, 0, '2015'),\n",
       " Text(16, 0, '2016'),\n",
       " Text(17, 0, '2017'),\n",
       " Text(18, 0, '2018'),\n",
       " Text(19, 0, '2019'),\n",
       " Text(20, 0, '2020')]"
      ]
     },
     "execution_count": 96,
     "metadata": {},
     "output_type": "execute_result"
    },
    {
     "data": {
      "image/png": "[encoded data removed]",
      "text/plain": [
       "<Figure size 432x288 with 1 Axes>"
      ]
     },
     "metadata": {
      "needs_background": "light"
     },
     "output_type": "display_data"
    }
   ],
   "source": [
    "fig, ax = plt.subplots()\n",
    "ax= sns.lineplot(x=data_2.index, y=\"MORTGAGE\", data=data_2,color=\"red\")\n",
    "ax1 = sns.lineplot(x=data_2.index, y='UNEM_RATE', data=data_2)\n",
    "ax.set(xlabel='Year', ylabel='Data')\n",
    "ax.set_xticklabels(data_2.index, rotation=45)"
   ]
  },
  {
   "cell_type": "code",
   "execution_count": 102,
   "metadata": {},
   "outputs": [
    {
     "name": "stderr",
     "output_type": "stream",
     "text": [
      "/home/jeet/.local/lib/python3.6/site-packages/ipykernel_launcher.py:2: UserWarning: FixedFormatter should only be used together with FixedLocator\n",
      "  \n"
     ]
    },
    {
     "data": {
      "image/png": "[encoded data removed]",
      "text/plain": [
       "<Figure size 432x288 with 1 Axes>"
      ]
     },
     "metadata": {
      "needs_background": "light"
     },
     "output_type": "display_data"
    }
   ],
   "source": [
    "ax = sns.lineplot(data=data_2,x=data.index,y=\"GDPC1\")\n",
    "ax.set_xticklabels(data_2.index, rotation=45)\n",
    "plt.show()"
   ]
  },
  {
   "cell_type": "code",
   "execution_count": 101,
   "metadata": {},
   "outputs": [
    {
     "name": "stderr",
     "output_type": "stream",
     "text": [
      "/home/jeet/.local/lib/python3.6/site-packages/ipykernel_launcher.py:2: UserWarning: FixedFormatter should only be used together with FixedLocator\n",
      "  \n"
     ]
    },
    {
     "data": {
      "image/png": "[encoded data removed]",
      "text/plain": [
       "<Figure size 432x288 with 1 Axes>"
      ]
     },
     "metadata": {
      "needs_background": "light"
     },
     "output_type": "display_data"
    }
   ],
   "source": [
    "ax = sns.lineplot(data=data_2,x=data.index,y=\"HPI\")\n",
    "ax.set_xticklabels(data_2.index, rotation=45)\n",
    "plt.show()"
   ]
  },
  {
   "cell_type": "code",
   "execution_count": null,
   "metadata": {},
   "outputs": [],
   "source": []
  }
 ],
 "metadata": {
  "kernelspec": {
   "display_name": "Python 3",
   "language": "python",
   "name": "python3"
  },
  "language_info": {
   "codemirror_mode": {
    "name": "ipython",
    "version": 3
   },
   "file_extension": ".py",
   "mimetype": "text/x-python",
   "name": "python",
   "nbconvert_exporter": "python",
   "pygments_lexer": "ipython3",
   "version": "3.6.9"
  }
 },
 "nbformat": 4,
 "nbformat_minor": 4
}
