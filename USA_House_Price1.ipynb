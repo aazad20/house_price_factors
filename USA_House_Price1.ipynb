{
 "cells": [
  {
   "cell_type": "code",
   "execution_count": 1,
   "metadata": {},
   "outputs": [],
   "source": [
    "import pandas as pd\n",
    "import numpy as np\n",
    "import seaborn as sns\n",
    "import matplotlib.pyplot as plt "
   ]
  },
  {
   "cell_type": "code",
   "execution_count": 3,
   "metadata": {},
   "outputs": [],
   "source": [
    "data = pd.read_csv(\"realtor-data.csv\")"
   ]
  },
  {
   "cell_type": "code",
   "execution_count": 8,
   "metadata": {},
   "outputs": [
    {
     "data": {
      "text/html": [
       "<div>\n",
       "<style scoped>\n",
       "    .dataframe tbody tr th:only-of-type {\n",
       "        vertical-align: middle;\n",
       "    }\n",
       "\n",
       "    .dataframe tbody tr th {\n",
       "        vertical-align: top;\n",
       "    }\n",
       "\n",
       "    .dataframe thead th {\n",
       "        text-align: right;\n",
       "    }\n",
       "</style>\n",
       "<table border=\"1\" class=\"dataframe\">\n",
       "  <thead>\n",
       "    <tr style=\"text-align: right;\">\n",
       "      <th></th>\n",
       "      <th>status</th>\n",
       "      <th>price</th>\n",
       "      <th>bed</th>\n",
       "      <th>bath</th>\n",
       "      <th>acre_lot</th>\n",
       "      <th>full_address</th>\n",
       "      <th>street</th>\n",
       "      <th>city</th>\n",
       "      <th>state</th>\n",
       "      <th>zip_code</th>\n",
       "      <th>house_size</th>\n",
       "      <th>sold_date</th>\n",
       "    </tr>\n",
       "  </thead>\n",
       "  <tbody>\n",
       "    <tr>\n",
       "      <th>0</th>\n",
       "      <td>for_sale</td>\n",
       "      <td>105000.0</td>\n",
       "      <td>3.0</td>\n",
       "      <td>2.0</td>\n",
       "      <td>0.12</td>\n",
       "      <td>Sector Yahuecas Titulo # V84, Adjuntas, PR, 00601</td>\n",
       "      <td>Sector Yahuecas Titulo # V84</td>\n",
       "      <td>Adjuntas</td>\n",
       "      <td>Puerto Rico</td>\n",
       "      <td>601.0</td>\n",
       "      <td>920.0</td>\n",
       "      <td>NaN</td>\n",
       "    </tr>\n",
       "    <tr>\n",
       "      <th>1</th>\n",
       "      <td>for_sale</td>\n",
       "      <td>80000.0</td>\n",
       "      <td>4.0</td>\n",
       "      <td>2.0</td>\n",
       "      <td>0.08</td>\n",
       "      <td>Km 78 9 Carr # 135, Adjuntas, PR, 00601</td>\n",
       "      <td>Km 78 9 Carr # 135</td>\n",
       "      <td>Adjuntas</td>\n",
       "      <td>Puerto Rico</td>\n",
       "      <td>601.0</td>\n",
       "      <td>1527.0</td>\n",
       "      <td>NaN</td>\n",
       "    </tr>\n",
       "    <tr>\n",
       "      <th>2</th>\n",
       "      <td>for_sale</td>\n",
       "      <td>67000.0</td>\n",
       "      <td>2.0</td>\n",
       "      <td>1.0</td>\n",
       "      <td>0.15</td>\n",
       "      <td>556G 556-G 16 St, Juana Diaz, PR, 00795</td>\n",
       "      <td>556G 556-G 16 St</td>\n",
       "      <td>Juana Diaz</td>\n",
       "      <td>Puerto Rico</td>\n",
       "      <td>795.0</td>\n",
       "      <td>748.0</td>\n",
       "      <td>NaN</td>\n",
       "    </tr>\n",
       "    <tr>\n",
       "      <th>3</th>\n",
       "      <td>for_sale</td>\n",
       "      <td>145000.0</td>\n",
       "      <td>4.0</td>\n",
       "      <td>2.0</td>\n",
       "      <td>0.10</td>\n",
       "      <td>R5 Comunidad El Paraso Calle De Oro R-5 Ponce,...</td>\n",
       "      <td>R5 Comunidad El Paraso Calle De Oro R-5 Ponce</td>\n",
       "      <td>Ponce</td>\n",
       "      <td>Puerto Rico</td>\n",
       "      <td>731.0</td>\n",
       "      <td>1800.0</td>\n",
       "      <td>NaN</td>\n",
       "    </tr>\n",
       "    <tr>\n",
       "      <th>4</th>\n",
       "      <td>for_sale</td>\n",
       "      <td>65000.0</td>\n",
       "      <td>6.0</td>\n",
       "      <td>2.0</td>\n",
       "      <td>0.05</td>\n",
       "      <td>14 Navarro, Mayaguez, PR, 00680</td>\n",
       "      <td>14 Navarro</td>\n",
       "      <td>Mayaguez</td>\n",
       "      <td>Puerto Rico</td>\n",
       "      <td>680.0</td>\n",
       "      <td>NaN</td>\n",
       "      <td>NaN</td>\n",
       "    </tr>\n",
       "    <tr>\n",
       "      <th>...</th>\n",
       "      <td>...</td>\n",
       "      <td>...</td>\n",
       "      <td>...</td>\n",
       "      <td>...</td>\n",
       "      <td>...</td>\n",
       "      <td>...</td>\n",
       "      <td>...</td>\n",
       "      <td>...</td>\n",
       "      <td>...</td>\n",
       "      <td>...</td>\n",
       "      <td>...</td>\n",
       "      <td>...</td>\n",
       "    </tr>\n",
       "    <tr>\n",
       "      <th>813154</th>\n",
       "      <td>for_sale</td>\n",
       "      <td>1600000.0</td>\n",
       "      <td>2.0</td>\n",
       "      <td>2.0</td>\n",
       "      <td>NaN</td>\n",
       "      <td>235 E 87th St Apt 5C, Manhattan, NY, 10128</td>\n",
       "      <td>235 E 87th St Apt 5C</td>\n",
       "      <td>Manhattan</td>\n",
       "      <td>New York</td>\n",
       "      <td>10128.0</td>\n",
       "      <td>NaN</td>\n",
       "      <td>2019-01-09</td>\n",
       "    </tr>\n",
       "    <tr>\n",
       "      <th>813155</th>\n",
       "      <td>for_sale</td>\n",
       "      <td>699000.0</td>\n",
       "      <td>4.0</td>\n",
       "      <td>2.0</td>\n",
       "      <td>0.04</td>\n",
       "      <td>107 77th St, North Bergen, NJ, 07047</td>\n",
       "      <td>107 77th St</td>\n",
       "      <td>North Bergen</td>\n",
       "      <td>New Jersey</td>\n",
       "      <td>7047.0</td>\n",
       "      <td>NaN</td>\n",
       "      <td>2006-08-09</td>\n",
       "    </tr>\n",
       "    <tr>\n",
       "      <th>813156</th>\n",
       "      <td>for_sale</td>\n",
       "      <td>480000.0</td>\n",
       "      <td>2.0</td>\n",
       "      <td>1.0</td>\n",
       "      <td>NaN</td>\n",
       "      <td>67-76 Booth St Unit 8O, Forest Hills, NY, 11375</td>\n",
       "      <td>67-76 Booth St Unit 8O</td>\n",
       "      <td>Forest Hills</td>\n",
       "      <td>New York</td>\n",
       "      <td>11375.0</td>\n",
       "      <td>1250.0</td>\n",
       "      <td>2014-08-06</td>\n",
       "    </tr>\n",
       "    <tr>\n",
       "      <th>813157</th>\n",
       "      <td>for_sale</td>\n",
       "      <td>450000.0</td>\n",
       "      <td>1.0</td>\n",
       "      <td>1.0</td>\n",
       "      <td>NaN</td>\n",
       "      <td>34-41 85 St Unit 1J, Jackson Heights, NY, 11372</td>\n",
       "      <td>34-41 85 St Unit 1J</td>\n",
       "      <td>Jackson Heights</td>\n",
       "      <td>New York</td>\n",
       "      <td>11372.0</td>\n",
       "      <td>827.0</td>\n",
       "      <td>2020-02-04</td>\n",
       "    </tr>\n",
       "    <tr>\n",
       "      <th>813158</th>\n",
       "      <td>for_sale</td>\n",
       "      <td>725000.0</td>\n",
       "      <td>4.0</td>\n",
       "      <td>4.0</td>\n",
       "      <td>NaN</td>\n",
       "      <td>2336 Valentine Ave, Bronx, NY, 10458</td>\n",
       "      <td>2336 Valentine Ave</td>\n",
       "      <td>Bronx</td>\n",
       "      <td>New York</td>\n",
       "      <td>10458.0</td>\n",
       "      <td>1776.0</td>\n",
       "      <td>2015-09-30</td>\n",
       "    </tr>\n",
       "  </tbody>\n",
       "</table>\n",
       "<p>813159 rows × 12 columns</p>\n",
       "</div>"
      ],
      "text/plain": [
       "          status      price  bed  bath  acre_lot  \\\n",
       "0       for_sale   105000.0  3.0   2.0      0.12   \n",
       "1       for_sale    80000.0  4.0   2.0      0.08   \n",
       "2       for_sale    67000.0  2.0   1.0      0.15   \n",
       "3       for_sale   145000.0  4.0   2.0      0.10   \n",
       "4       for_sale    65000.0  6.0   2.0      0.05   \n",
       "...          ...        ...  ...   ...       ...   \n",
       "813154  for_sale  1600000.0  2.0   2.0       NaN   \n",
       "813155  for_sale   699000.0  4.0   2.0      0.04   \n",
       "813156  for_sale   480000.0  2.0   1.0       NaN   \n",
       "813157  for_sale   450000.0  1.0   1.0       NaN   \n",
       "813158  for_sale   725000.0  4.0   4.0       NaN   \n",
       "\n",
       "                                             full_address  \\\n",
       "0       Sector Yahuecas Titulo # V84, Adjuntas, PR, 00601   \n",
       "1                 Km 78 9 Carr # 135, Adjuntas, PR, 00601   \n",
       "2                 556G 556-G 16 St, Juana Diaz, PR, 00795   \n",
       "3       R5 Comunidad El Paraso Calle De Oro R-5 Ponce,...   \n",
       "4                         14 Navarro, Mayaguez, PR, 00680   \n",
       "...                                                   ...   \n",
       "813154         235 E 87th St Apt 5C, Manhattan, NY, 10128   \n",
       "813155               107 77th St, North Bergen, NJ, 07047   \n",
       "813156    67-76 Booth St Unit 8O, Forest Hills, NY, 11375   \n",
       "813157    34-41 85 St Unit 1J, Jackson Heights, NY, 11372   \n",
       "813158               2336 Valentine Ave, Bronx, NY, 10458   \n",
       "\n",
       "                                               street             city  \\\n",
       "0                        Sector Yahuecas Titulo # V84         Adjuntas   \n",
       "1                                  Km 78 9 Carr # 135         Adjuntas   \n",
       "2                                    556G 556-G 16 St       Juana Diaz   \n",
       "3       R5 Comunidad El Paraso Calle De Oro R-5 Ponce            Ponce   \n",
       "4                                          14 Navarro         Mayaguez   \n",
       "...                                               ...              ...   \n",
       "813154                           235 E 87th St Apt 5C        Manhattan   \n",
       "813155                                    107 77th St     North Bergen   \n",
       "813156                         67-76 Booth St Unit 8O     Forest Hills   \n",
       "813157                            34-41 85 St Unit 1J  Jackson Heights   \n",
       "813158                             2336 Valentine Ave            Bronx   \n",
       "\n",
       "              state  zip_code  house_size   sold_date  \n",
       "0       Puerto Rico     601.0       920.0         NaN  \n",
       "1       Puerto Rico     601.0      1527.0         NaN  \n",
       "2       Puerto Rico     795.0       748.0         NaN  \n",
       "3       Puerto Rico     731.0      1800.0         NaN  \n",
       "4       Puerto Rico     680.0         NaN         NaN  \n",
       "...             ...       ...         ...         ...  \n",
       "813154     New York   10128.0         NaN  2019-01-09  \n",
       "813155   New Jersey    7047.0         NaN  2006-08-09  \n",
       "813156     New York   11375.0      1250.0  2014-08-06  \n",
       "813157     New York   11372.0       827.0  2020-02-04  \n",
       "813158     New York   10458.0      1776.0  2015-09-30  \n",
       "\n",
       "[813159 rows x 12 columns]"
      ]
     },
     "execution_count": 8,
     "metadata": {},
     "output_type": "execute_result"
    }
   ],
   "source": [
    "data"
   ]
  },
  {
   "cell_type": "code",
   "execution_count": 6,
   "metadata": {},
   "outputs": [
    {
     "data": {
      "text/plain": [
       "status               0\n",
       "price               71\n",
       "bed             122799\n",
       "bath            112560\n",
       "acre_lot        212917\n",
       "full_address         0\n",
       "street            1623\n",
       "city                72\n",
       "state                0\n",
       "zip_code           204\n",
       "house_size      251871\n",
       "sold_date       419767\n",
       "dtype: int64"
      ]
     },
     "execution_count": 6,
     "metadata": {},
     "output_type": "execute_result"
    }
   ],
   "source": [
    "data.isna().sum()"
   ]
  },
  {
   "cell_type": "code",
   "execution_count": 7,
   "metadata": {},
   "outputs": [
    {
     "data": {
      "text/plain": [
       "for_sale          811566\n",
       "ready_to_build      1593\n",
       "Name: status, dtype: int64"
      ]
     },
     "execution_count": 7,
     "metadata": {},
     "output_type": "execute_result"
    }
   ],
   "source": [
    "data.status.value_counts()"
   ]
  },
  {
   "cell_type": "code",
   "execution_count": 16,
   "metadata": {},
   "outputs": [],
   "source": [
    "data = data.dropna()"
   ]
  },
  {
   "cell_type": "code",
   "execution_count": 17,
   "metadata": {},
   "outputs": [
    {
     "data": {
      "text/html": [
       "<div>\n",
       "<style scoped>\n",
       "    .dataframe tbody tr th:only-of-type {\n",
       "        vertical-align: middle;\n",
       "    }\n",
       "\n",
       "    .dataframe tbody tr th {\n",
       "        vertical-align: top;\n",
       "    }\n",
       "\n",
       "    .dataframe thead th {\n",
       "        text-align: right;\n",
       "    }\n",
       "</style>\n",
       "<table border=\"1\" class=\"dataframe\">\n",
       "  <thead>\n",
       "    <tr style=\"text-align: right;\">\n",
       "      <th></th>\n",
       "      <th>status</th>\n",
       "      <th>price</th>\n",
       "      <th>bed</th>\n",
       "      <th>bath</th>\n",
       "      <th>acre_lot</th>\n",
       "      <th>city</th>\n",
       "      <th>state</th>\n",
       "      <th>house_size</th>\n",
       "      <th>sold_date</th>\n",
       "    </tr>\n",
       "  </thead>\n",
       "  <tbody>\n",
       "    <tr>\n",
       "      <th>829</th>\n",
       "      <td>for_sale</td>\n",
       "      <td>110000.0</td>\n",
       "      <td>7.0</td>\n",
       "      <td>3.0</td>\n",
       "      <td>0.09</td>\n",
       "      <td>Dorado</td>\n",
       "      <td>Puerto Rico</td>\n",
       "      <td>1192.0</td>\n",
       "      <td>2019-06-28</td>\n",
       "    </tr>\n",
       "    <tr>\n",
       "      <th>3380</th>\n",
       "      <td>for_sale</td>\n",
       "      <td>110000.0</td>\n",
       "      <td>7.0</td>\n",
       "      <td>3.0</td>\n",
       "      <td>0.09</td>\n",
       "      <td>Dorado</td>\n",
       "      <td>Puerto Rico</td>\n",
       "      <td>1192.0</td>\n",
       "      <td>2019-06-28</td>\n",
       "    </tr>\n",
       "    <tr>\n",
       "      <th>5083</th>\n",
       "      <td>for_sale</td>\n",
       "      <td>110000.0</td>\n",
       "      <td>7.0</td>\n",
       "      <td>3.0</td>\n",
       "      <td>0.09</td>\n",
       "      <td>Dorado</td>\n",
       "      <td>Puerto Rico</td>\n",
       "      <td>1192.0</td>\n",
       "      <td>2019-06-28</td>\n",
       "    </tr>\n",
       "    <tr>\n",
       "      <th>5387</th>\n",
       "      <td>for_sale</td>\n",
       "      <td>110000.0</td>\n",
       "      <td>7.0</td>\n",
       "      <td>3.0</td>\n",
       "      <td>0.09</td>\n",
       "      <td>Dorado</td>\n",
       "      <td>Puerto Rico</td>\n",
       "      <td>1192.0</td>\n",
       "      <td>2019-06-28</td>\n",
       "    </tr>\n",
       "    <tr>\n",
       "      <th>9053</th>\n",
       "      <td>for_sale</td>\n",
       "      <td>110000.0</td>\n",
       "      <td>7.0</td>\n",
       "      <td>3.0</td>\n",
       "      <td>0.09</td>\n",
       "      <td>Dorado</td>\n",
       "      <td>Puerto Rico</td>\n",
       "      <td>1192.0</td>\n",
       "      <td>2019-06-28</td>\n",
       "    </tr>\n",
       "  </tbody>\n",
       "</table>\n",
       "</div>"
      ],
      "text/plain": [
       "        status     price  bed  bath  acre_lot    city        state  \\\n",
       "829   for_sale  110000.0  7.0   3.0      0.09  Dorado  Puerto Rico   \n",
       "3380  for_sale  110000.0  7.0   3.0      0.09  Dorado  Puerto Rico   \n",
       "5083  for_sale  110000.0  7.0   3.0      0.09  Dorado  Puerto Rico   \n",
       "5387  for_sale  110000.0  7.0   3.0      0.09  Dorado  Puerto Rico   \n",
       "9053  for_sale  110000.0  7.0   3.0      0.09  Dorado  Puerto Rico   \n",
       "\n",
       "      house_size   sold_date  \n",
       "829       1192.0  2019-06-28  \n",
       "3380      1192.0  2019-06-28  \n",
       "5083      1192.0  2019-06-28  \n",
       "5387      1192.0  2019-06-28  \n",
       "9053      1192.0  2019-06-28  "
      ]
     },
     "execution_count": 17,
     "metadata": {},
     "output_type": "execute_result"
    }
   ],
   "source": [
    "data.head()"
   ]
  },
  {
   "cell_type": "code",
   "execution_count": 23,
   "metadata": {},
   "outputs": [],
   "source": [
    "useful = data[data[\"status\"]==\"for_sale\"]"
   ]
  },
  {
   "cell_type": "code",
   "execution_count": 25,
   "metadata": {},
   "outputs": [
    {
     "data": {
      "text/plain": [
       "for_sale    214876\n",
       "Name: status, dtype: int64"
      ]
     },
     "execution_count": 25,
     "metadata": {},
     "output_type": "execute_result"
    }
   ],
   "source": [
    "useful.status.value_counts()"
   ]
  },
  {
   "cell_type": "code",
   "execution_count": 26,
   "metadata": {},
   "outputs": [
    {
     "data": {
      "text/plain": [
       "New Jersey        52525\n",
       "Massachusetts     51961\n",
       "Connecticut       44923\n",
       "New York          18268\n",
       "Rhode Island      12996\n",
       "New Hampshire     10163\n",
       "Pennsylvania       9937\n",
       "Vermont            8381\n",
       "Maine              4421\n",
       "Delaware           1275\n",
       "Puerto Rico          20\n",
       "Virgin Islands        6\n",
       "Name: state, dtype: int64"
      ]
     },
     "execution_count": 26,
     "metadata": {},
     "output_type": "execute_result"
    }
   ],
   "source": [
    "data.state.value_counts()"
   ]
  },
  {
   "cell_type": "code",
   "execution_count": 27,
   "metadata": {},
   "outputs": [],
   "source": [
    "d1 = data.groupby('state').sum()"
   ]
  },
  {
   "cell_type": "code",
   "execution_count": 28,
   "metadata": {},
   "outputs": [
    {
     "data": {
      "text/html": [
       "<div>\n",
       "<style scoped>\n",
       "    .dataframe tbody tr th:only-of-type {\n",
       "        vertical-align: middle;\n",
       "    }\n",
       "\n",
       "    .dataframe tbody tr th {\n",
       "        vertical-align: top;\n",
       "    }\n",
       "\n",
       "    .dataframe thead th {\n",
       "        text-align: right;\n",
       "    }\n",
       "</style>\n",
       "<table border=\"1\" class=\"dataframe\">\n",
       "  <thead>\n",
       "    <tr style=\"text-align: right;\">\n",
       "      <th></th>\n",
       "      <th>price</th>\n",
       "      <th>bed</th>\n",
       "      <th>bath</th>\n",
       "      <th>acre_lot</th>\n",
       "      <th>house_size</th>\n",
       "    </tr>\n",
       "    <tr>\n",
       "      <th>state</th>\n",
       "      <th></th>\n",
       "      <th></th>\n",
       "      <th></th>\n",
       "      <th></th>\n",
       "      <th></th>\n",
       "    </tr>\n",
       "  </thead>\n",
       "  <tbody>\n",
       "    <tr>\n",
       "      <th>Connecticut</th>\n",
       "      <td>2.208690e+10</td>\n",
       "      <td>165103.0</td>\n",
       "      <td>114574.0</td>\n",
       "      <td>68066.78</td>\n",
       "      <td>93516599.0</td>\n",
       "    </tr>\n",
       "    <tr>\n",
       "      <th>Delaware</th>\n",
       "      <td>4.314495e+08</td>\n",
       "      <td>4208.0</td>\n",
       "      <td>3000.0</td>\n",
       "      <td>3427.50</td>\n",
       "      <td>2553269.0</td>\n",
       "    </tr>\n",
       "    <tr>\n",
       "      <th>Maine</th>\n",
       "      <td>2.121486e+09</td>\n",
       "      <td>15754.0</td>\n",
       "      <td>10092.0</td>\n",
       "      <td>22566.08</td>\n",
       "      <td>9227172.0</td>\n",
       "    </tr>\n",
       "    <tr>\n",
       "      <th>Massachusetts</th>\n",
       "      <td>5.302575e+10</td>\n",
       "      <td>193105.0</td>\n",
       "      <td>141604.0</td>\n",
       "      <td>67733.57</td>\n",
       "      <td>128465925.0</td>\n",
       "    </tr>\n",
       "    <tr>\n",
       "      <th>New Hampshire</th>\n",
       "      <td>6.341967e+09</td>\n",
       "      <td>34504.0</td>\n",
       "      <td>25070.0</td>\n",
       "      <td>40858.59</td>\n",
       "      <td>24460618.0</td>\n",
       "    </tr>\n",
       "    <tr>\n",
       "      <th>New Jersey</th>\n",
       "      <td>2.988328e+10</td>\n",
       "      <td>186259.0</td>\n",
       "      <td>139131.0</td>\n",
       "      <td>577103.49</td>\n",
       "      <td>128286318.0</td>\n",
       "    </tr>\n",
       "    <tr>\n",
       "      <th>New York</th>\n",
       "      <td>2.410484e+10</td>\n",
       "      <td>71927.0</td>\n",
       "      <td>52461.0</td>\n",
       "      <td>36778.27</td>\n",
       "      <td>40980666.0</td>\n",
       "    </tr>\n",
       "    <tr>\n",
       "      <th>Pennsylvania</th>\n",
       "      <td>3.820694e+09</td>\n",
       "      <td>32765.0</td>\n",
       "      <td>22319.0</td>\n",
       "      <td>3081.35</td>\n",
       "      <td>17757191.0</td>\n",
       "    </tr>\n",
       "    <tr>\n",
       "      <th>Puerto Rico</th>\n",
       "      <td>2.200000e+06</td>\n",
       "      <td>140.0</td>\n",
       "      <td>60.0</td>\n",
       "      <td>1.80</td>\n",
       "      <td>23840.0</td>\n",
       "    </tr>\n",
       "    <tr>\n",
       "      <th>Rhode Island</th>\n",
       "      <td>6.237397e+09</td>\n",
       "      <td>48348.0</td>\n",
       "      <td>29541.0</td>\n",
       "      <td>175112.33</td>\n",
       "      <td>27138423.0</td>\n",
       "    </tr>\n",
       "    <tr>\n",
       "      <th>Vermont</th>\n",
       "      <td>3.916703e+09</td>\n",
       "      <td>30422.0</td>\n",
       "      <td>21544.0</td>\n",
       "      <td>77570.04</td>\n",
       "      <td>19944461.0</td>\n",
       "    </tr>\n",
       "    <tr>\n",
       "      <th>Virgin Islands</th>\n",
       "      <td>2.354700e+07</td>\n",
       "      <td>27.0</td>\n",
       "      <td>30.0</td>\n",
       "      <td>5.46</td>\n",
       "      <td>28800.0</td>\n",
       "    </tr>\n",
       "  </tbody>\n",
       "</table>\n",
       "</div>"
      ],
      "text/plain": [
       "                       price       bed      bath   acre_lot   house_size\n",
       "state                                                                   \n",
       "Connecticut     2.208690e+10  165103.0  114574.0   68066.78   93516599.0\n",
       "Delaware        4.314495e+08    4208.0    3000.0    3427.50    2553269.0\n",
       "Maine           2.121486e+09   15754.0   10092.0   22566.08    9227172.0\n",
       "Massachusetts   5.302575e+10  193105.0  141604.0   67733.57  128465925.0\n",
       "New Hampshire   6.341967e+09   34504.0   25070.0   40858.59   24460618.0\n",
       "New Jersey      2.988328e+10  186259.0  139131.0  577103.49  128286318.0\n",
       "New York        2.410484e+10   71927.0   52461.0   36778.27   40980666.0\n",
       "Pennsylvania    3.820694e+09   32765.0   22319.0    3081.35   17757191.0\n",
       "Puerto Rico     2.200000e+06     140.0      60.0       1.80      23840.0\n",
       "Rhode Island    6.237397e+09   48348.0   29541.0  175112.33   27138423.0\n",
       "Vermont         3.916703e+09   30422.0   21544.0   77570.04   19944461.0\n",
       "Virgin Islands  2.354700e+07      27.0      30.0       5.46      28800.0"
      ]
     },
     "execution_count": 28,
     "metadata": {},
     "output_type": "execute_result"
    }
   ],
   "source": [
    "d1"
   ]
  },
  {
   "cell_type": "code",
   "execution_count": 31,
   "metadata": {},
   "outputs": [
    {
     "data": {
      "image/png": "[encoded data removed]",
      "text/plain": [
       "<Figure size 432x288 with 1 Axes>"
      ]
     },
     "metadata": {
      "needs_background": "light"
     },
     "output_type": "display_data"
    }
   ],
   "source": [
    "ax = sns.barplot(data=d1,x=d1.index,y=\"price\")\n",
    "ax.set_xticklabels(d1.index, rotation=90)\n",
    "plt.show()"
   ]
  },
  {
   "cell_type": "code",
   "execution_count": 36,
   "metadata": {},
   "outputs": [
    {
     "data": {
      "text/plain": [
       "count    214876.000000\n",
       "mean       2291.476396\n",
       "std        1969.248279\n",
       "min         170.000000\n",
       "25%        1320.000000\n",
       "50%        1830.000000\n",
       "75%        2650.000000\n",
       "max       70626.000000\n",
       "Name: house_size, dtype: float64"
      ]
     },
     "execution_count": 36,
     "metadata": {},
     "output_type": "execute_result"
    }
   ],
   "source": [
    "data['house_size'].describe()"
   ]
  },
  {
   "cell_type": "code",
   "execution_count": 37,
   "metadata": {},
   "outputs": [
    {
     "data": {
      "text/plain": [
       "count    2.148760e+05\n",
       "mean     7.073671e+05\n",
       "std      1.293926e+06\n",
       "min      1.000000e+04\n",
       "25%      2.850000e+05\n",
       "50%      4.299000e+05\n",
       "75%      7.000000e+05\n",
       "max      6.000000e+07\n",
       "Name: price, dtype: float64"
      ]
     },
     "execution_count": 37,
     "metadata": {},
     "output_type": "execute_result"
    }
   ],
   "source": [
    "data['price'].describe()"
   ]
  },
  {
   "cell_type": "code",
   "execution_count": 40,
   "metadata": {},
   "outputs": [
    {
     "data": {
      "text/plain": [
       "0.44371174125637"
      ]
     },
     "execution_count": 40,
     "metadata": {},
     "output_type": "execute_result"
    }
   ],
   "source": [
    "data['price'].corr(data[\"house_size\"])"
   ]
  },
  {
   "cell_type": "code",
   "execution_count": 41,
   "metadata": {},
   "outputs": [
    {
     "data": {
      "text/plain": [
       "Index(['price', 'bed', 'bath', 'acre_lot', 'house_size'], dtype='object')"
      ]
     },
     "execution_count": 41,
     "metadata": {},
     "output_type": "execute_result"
    }
   ],
   "source": [
    "d1.columns"
   ]
  },
  {
   "cell_type": "code",
   "execution_count": 42,
   "metadata": {},
   "outputs": [
    {
     "data": {
      "text/plain": [
       "<AxesSubplot:>"
      ]
     },
     "execution_count": 42,
     "metadata": {},
     "output_type": "execute_result"
    },
    {
     "data": {
      "image/png": "[encoded data removed]",
      "text/plain": [
       "<Figure size 432x288 with 2 Axes>"
      ]
     },
     "metadata": {
      "needs_background": "light"
     },
     "output_type": "display_data"
    }
   ],
   "source": [
    "sns.heatmap(d1.corr())"
   ]
  }
 ],
 "metadata": {
  "kernelspec": {
   "display_name": "Python 3",
   "language": "python",
   "name": "python3"
  },
  "language_info": {
   "codemirror_mode": {
    "name": "ipython",
    "version": 3
   },
   "file_extension": ".py",
   "mimetype": "text/x-python",
   "name": "python",
   "nbconvert_exporter": "python",
   "pygments_lexer": "ipython3",
   "version": "3.6.9"
  }
 },
 "nbformat": 4,
 "nbformat_minor": 4
}
